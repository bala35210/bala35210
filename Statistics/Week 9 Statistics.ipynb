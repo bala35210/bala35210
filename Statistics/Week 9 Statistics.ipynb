{
 "cells": [
  {
   "cell_type": "code",
   "execution_count": 7,
   "metadata": {},
   "outputs": [
    {
     "name": "stdout",
     "output_type": "stream",
     "text": [
      "300 3.8933333333333335\n"
     ]
    }
   ],
   "source": [
    "'''\n",
    "Problem 1\n",
    "Fitting a Poisson distribution for a number of vehicles (n)\n",
    "making a right turn at an intersection in a 3-min interval.\n",
    "'''\n",
    "\n",
    "import numpy as np\n",
    "\n",
    "freq = np.array([14,30,36,68,43,43,30,14,10,6,4,1,1])\n",
    "num  = np.arange(0,13)\n",
    "\n",
    "n = np.sum(freq)\n",
    "sample_mean = np.sum(num*freq)/n\n",
    "print(n,sample_mean)"
   ]
  },
  {
   "cell_type": "code",
   "execution_count": 6,
   "metadata": {},
   "outputs": [
    {
     "name": "stdout",
     "output_type": "stream",
     "text": [
      "[ 6.1131925  23.80069615 46.33202183 60.12866833 58.52523717 45.57165135\n",
      " 29.57093821 16.4470742   8.00424278  3.46257614  1.34809631  0.47714439\n",
      "  0.15480685]\n"
     ]
    }
   ],
   "source": [
    "import scipy.stats as st\n",
    "\n",
    "poiss_fit = st.poisson.pmf(num, sample_mean)\n",
    "print(poiss_fit*n)"
   ]
  },
  {
   "cell_type": "code",
   "execution_count": 10,
   "metadata": {},
   "outputs": [
    {
     "name": "stdout",
     "output_type": "stream",
     "text": [
      "2.2793176366818404\n"
     ]
    }
   ],
   "source": [
    "#Sample Variance Calculation \n",
    "v = np.sum(freq*((num - sample_mean)**2))/(n)\n",
    "print(np.sqrt(v))"
   ]
  },
  {
   "cell_type": "code",
   "execution_count": 12,
   "metadata": {},
   "outputs": [
    {
     "name": "stdout",
     "output_type": "stream",
     "text": [
      "0.2579243321097385 -0.25792433210973853\n"
     ]
    }
   ],
   "source": [
    "#Finding inverse cdf\n",
    "\n",
    "l1 = st.norm.ppf(0.975,loc=0,scale=np.sqrt(v/300))\n",
    "l2 = st.norm.ppf(0.025,loc=0,scale=np.sqrt(v/300))\n",
    "\n",
    "print(l1,l2)"
   ]
  },
  {
   "cell_type": "code",
   "execution_count": 13,
   "metadata": {},
   "outputs": [
    {
     "name": "stdout",
     "output_type": "stream",
     "text": [
      "3.635409001223595 4.151257665443072\n"
     ]
    }
   ],
   "source": [
    "#Confidence Interval:\n",
    "\n",
    "print(sample_mean - l1 , sample_mean - l2)"
   ]
  },
  {
   "cell_type": "code",
   "execution_count": 16,
   "metadata": {},
   "outputs": [
    {
     "name": "stdout",
     "output_type": "stream",
     "text": [
      "130 0.3581267217630854\n"
     ]
    }
   ],
   "source": [
    "'''\n",
    "Problem 2\n",
    "Fitting a geometric distribution for number of hops(n) between\n",
    "flight of birds\n",
    "'''\n",
    "\n",
    "import numpy as np\n",
    "import scipy.stats as st\n",
    "\n",
    "num = np.arange(1,13)\n",
    "freq = np.array([48,31,20,9,6,5,4,2,1,1,2,1])\n",
    "\n",
    "n = np.sum(freq)\n",
    "phat = n/np.sum(freq*num)\n",
    "print(n, phat)"
   ]
  },
  {
   "cell_type": "code",
   "execution_count": 27,
   "metadata": {},
   "outputs": [
    {
     "name": "stdout",
     "output_type": "stream",
     "text": [
      "0.001924125127040266\n",
      "0.025348771614737402\n"
     ]
    }
   ],
   "source": [
    "#Finding E[phat] using BOOTSTRAP Method:\n",
    "\n",
    "N = 10000\n",
    "phat_bootstrap = np.zeros(N)\n",
    "for i in range(N):\n",
    "    xi = st.geom.rvs(phat, size=n)\n",
    "    phat_bootstrap[i] = n/np.sum(xi)\n",
    "\n",
    "bias_bootstrap = np.average(phat_bootstrap) - phat\n",
    "print(bias_bootstrap)\n",
    "\n",
    "#Finding variance using BOOTSTRAP Method:\n",
    "\n",
    "var_bootstrap = np.var(phat_bootstrap, ddof = 1)\n",
    "print(np.sqrt(var_bootstrap))"
   ]
  },
  {
   "cell_type": "code",
   "execution_count": 29,
   "metadata": {},
   "outputs": [
    {
     "name": "stdout",
     "output_type": "stream",
     "text": [
      "0.006357459240353004 -0.002357459240353005\n"
     ]
    }
   ],
   "source": [
    "#Finding Inverse CDF\n",
    "\n",
    "l1 = st.norm.ppf(0.975,loc=0.002,scale=np.sqrt(var_bootstrap/n))\n",
    "l2 = st.norm.ppf(0.025,loc=0.002,scale=np.sqrt(var_bootstrap/n))\n",
    "\n",
    "print(l1,l2)"
   ]
  },
  {
   "cell_type": "code",
   "execution_count": 30,
   "metadata": {},
   "outputs": [
    {
     "name": "stdout",
     "output_type": "stream",
     "text": [
      "0.3517692625227324 0.36048418100343843\n"
     ]
    }
   ],
   "source": [
    "#Confidence Interval\n",
    "\n",
    "print(phat-l1,phat-l2)"
   ]
  },
  {
   "cell_type": "code",
   "execution_count": 6,
   "metadata": {},
   "outputs": [
    {
     "name": "stdout",
     "output_type": "stream",
     "text": [
      "0.9500268556941498\n"
     ]
    }
   ],
   "source": [
    "'''\n",
    "Problem 3\n",
    "In a new machine, suppose that out of 10 produced items,\n",
    "no items was found to be defective. Estimate the probability \n",
    "of defective items produced by the new machine? Prior Data:\n",
    "avg. fraction of defective items = 10% and actual fraction was\n",
    "between 5% and 15% in 95% of the cases.\n",
    "'''\n",
    "\n",
    "import numpy as np\n",
    "import scipy.stats as st\n",
    "\n",
    "#a = alpha\n",
    "#For a particular alpha we are trying to find what value will\n",
    "#make the last condition to be 0.95\n",
    "fb = lambda a: (st.beta.cdf(0.15,a,9*a) - st.beta.cdf(0.05,a,9*a))\n",
    "print(fb(13.3))"
   ]
  },
  {
   "cell_type": "code",
   "execution_count": null,
   "metadata": {},
   "outputs": [],
   "source": []
  }
 ],
 "metadata": {
  "interpreter": {
   "hash": "000b55af9c8c6e0b177305578cfd5e8b3858975f719edc1b51e24deccc4249ae"
  },
  "kernelspec": {
   "display_name": "Python 3.9.7 64-bit ('minimal_ds': conda)",
   "name": "python3"
  },
  "language_info": {
   "codemirror_mode": {
    "name": "ipython",
    "version": 3
   },
   "file_extension": ".py",
   "mimetype": "text/x-python",
   "name": "python",
   "nbconvert_exporter": "python",
   "pygments_lexer": "ipython3",
   "version": "3.9.7"
  },
  "orig_nbformat": 4
 },
 "nbformat": 4,
 "nbformat_minor": 2
}
